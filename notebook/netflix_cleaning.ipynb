{
 "cells": [
  {
   "cell_type": "code",
   "execution_count": 1,
   "id": "ae764f50-d380-4c76-ac1f-f0f9bd0139fe",
   "metadata": {},
   "outputs": [],
   "source": [
    "import pandas as pd\n",
    "df = pd.read_csv('../raw/netflix_titles.csv')\n",
    "\n",
    "\n",
    "df_movies = df.loc[df[\"type\"] == \"Movie\"].copy()\n",
    "df_series = df.loc[df[\"type\"] == \"TV Show\"].copy()\n",
    "\n",
    "df_movies = df_movies.dropna(subset=['title', 'type'])\n",
    "df_series = df_series.dropna(subset=['title', 'type'])\n",
    "\n",
    "other_column = ['director', 'cast', 'country', 'date_added',\n",
    "       'release_year', 'rating', 'duration', 'listed_in', 'description']\n",
    "\n",
    "for column in other_column:\n",
    "    df_movies[column] = df_movies[column].fillna('Unknown')\n",
    "    df_series[column] = df_series[column].fillna('Unknown')\n",
    "\n",
    "df_movies['title']= df_movies['title'].str.strip().str.title()\n",
    "df_series['title'] =df_series['title'].str.strip().str.title()\n",
    "\n",
    "\n",
    "    \n",
    "\n",
    "\n"
   ]
  },
  {
   "cell_type": "code",
   "execution_count": 15,
   "id": "b72a7c28-b384-4f61-9abd-12ce43bb6382",
   "metadata": {
    "collapsed": true,
    "jupyter": {
     "outputs_hidden": true
    }
   },
   "outputs": [
    {
     "name": "stdout",
     "output_type": "stream",
     "text": [
      "   show_id     type                                title           director  \\\n",
      "1       s2  TV Show                        Blood & Water            Unknown   \n",
      "2       s3  TV Show                            Ganglands    Julien Leclercq   \n",
      "3       s4  TV Show                Jailbirds New Orleans            Unknown   \n",
      "4       s5  TV Show                         Kota Factory            Unknown   \n",
      "5       s6  TV Show                        Midnight Mass      Mike Flanagan   \n",
      "8       s9  TV Show        The Great British Baking Show    Andy Devonshire   \n",
      "10     s11  TV Show  Vendetta: Truth, Lies And The Mafia            Unknown   \n",
      "11     s12  TV Show                     Bangkok Breaking  Kongkiat Komesiri   \n",
      "14     s15  TV Show      Crime Stories: India Detectives            Unknown   \n",
      "15     s16  TV Show                    Dear White People            Unknown   \n",
      "\n",
      "                                                 cast         country  \\\n",
      "1   Ama Qamata, Khosi Ngema, Gail Mabalane, Thaban...    South Africa   \n",
      "2   Sami Bouajila, Tracy Gotoas, Samuel Jouy, Nabi...         Unknown   \n",
      "3                                             Unknown         Unknown   \n",
      "4   Mayur More, Jitendra Kumar, Ranjan Raj, Alam K...           India   \n",
      "5   Kate Siegel, Zach Gilford, Hamish Linklater, H...         Unknown   \n",
      "8   Mel Giedroyc, Sue Perkins, Mary Berry, Paul Ho...  United Kingdom   \n",
      "10                                            Unknown         Unknown   \n",
      "11  Sukollawat Kanarot, Sushar Manaying, Pavarit M...         Unknown   \n",
      "14                                            Unknown         Unknown   \n",
      "15  Logan Browning, Brandon P. Bell, DeRon Horton,...   United States   \n",
      "\n",
      "   date_added  release_year rating   duration  \\\n",
      "1  2021-09-24          2021  TV-MA  2 Seasons   \n",
      "2  2021-09-24          2021  TV-MA   1 Season   \n",
      "3  2021-09-24          2021  TV-MA   1 Season   \n",
      "4  2021-09-24          2021  TV-MA  2 Seasons   \n",
      "5  2021-09-24          2021  TV-MA   1 Season   \n",
      "8  2021-09-24          2021  TV-14  9 Seasons   \n",
      "10 2021-09-24          2021  TV-MA   1 Season   \n",
      "11 2021-09-23          2021  TV-MA   1 Season   \n",
      "14 2021-09-22          2021  TV-MA   1 Season   \n",
      "15 2021-09-22          2021  TV-MA  4 Seasons   \n",
      "\n",
      "                                            listed_in  \\\n",
      "1     International TV Shows, TV Dramas, TV Mysteries   \n",
      "2   Crime TV Shows, International TV Shows, TV Act...   \n",
      "3                              Docuseries, Reality TV   \n",
      "4   International TV Shows, Romantic TV Shows, TV ...   \n",
      "5                  TV Dramas, TV Horror, TV Mysteries   \n",
      "8                        British TV Shows, Reality TV   \n",
      "10  Crime TV Shows, Docuseries, International TV S...   \n",
      "11  Crime TV Shows, International TV Shows, TV Act...   \n",
      "14       British TV Shows, Crime TV Shows, Docuseries   \n",
      "15                             TV Comedies, TV Dramas   \n",
      "\n",
      "                                          description  \n",
      "1   After crossing paths at a party, a Cape Town t...  \n",
      "2   To protect his family from a powerful drug lor...  \n",
      "3   Feuds, flirtations and toilet talk go down amo...  \n",
      "4   In a city of coaching centers known to train I...  \n",
      "5   The arrival of a charismatic young priest brin...  \n",
      "8   A talented batch of amateur bakers face off in...  \n",
      "10  Sicily boasts a bold \"Anti-Mafia\" coalition. B...  \n",
      "11  Struggling to earn a living in Bangkok, a man ...  \n",
      "14  Cameras following Bengaluru police on the job ...  \n",
      "15  Students of color navigate the daily slights a...  \n"
     ]
    }
   ],
   "source": [
    "df_movies['date_added'] = pd.to_datetime(df_movies['date_added'], errors = 'coerce')\n",
    "df_series['date_added'] = pd.to_datetime(df_series['date_added'], errors = 'coerce')\n",
    "\n",
    "print(df_series.head(10))"
   ]
  },
  {
   "cell_type": "code",
   "execution_count": 17,
   "id": "a664542d-a3ad-498b-9bd6-c9d5c924801d",
   "metadata": {},
   "outputs": [],
   "source": [
    "df_movies['date_added'] = pd.to_datetime(df_movies['date_added'], errors = 'coerce')\n",
    "df_series['date_added'] = pd.to_datetime(df_series['date_added'], errors = 'coerce')\n"
   ]
  },
  {
   "cell_type": "code",
   "execution_count": 27,
   "id": "ca4a0614-dcc3-410e-b82e-69374f6340c7",
   "metadata": {
    "scrolled": true
   },
   "outputs": [],
   "source": [
    "df_movies['duration_min'] = df_movies['duration'].str.extract(r'(\\d+)').astype(float)\n",
    "df_series['duration_season'] = df_series['duration'].str.extract(r'(\\d+)').astype(float)\n",
    "\n"
   ]
  },
  {
   "cell_type": "code",
   "execution_count": 25,
   "id": "a2f69e5b-6322-4510-b449-926e652e7c68",
   "metadata": {},
   "outputs": [
    {
     "name": "stdout",
     "output_type": "stream",
     "text": [
      "['PG-13' 'PG' 'TV-MA' 'TV-PG' 'TV-14' 'TV-Y' 'R' 'TV-G' 'TV-Y7' 'G'\n",
      " 'NC-17' '74 min' '84 min' '66 min' 'NR' 'Unknown' 'TV-Y7-FV' 'UR']\n"
     ]
    }
   ],
   "source": [
    "print(df_movies['rating'].unique()[:50])\n"
   ]
  },
  {
   "cell_type": "code",
   "execution_count": 39,
   "id": "1c4771d5-29df-46bd-9d1e-c784d15953ce",
   "metadata": {
    "scrolled": true
   },
   "outputs": [],
   "source": [
    "def check_if_valid(rating):\n",
    "    valid_ratings = [\n",
    "    'G', 'PG', 'PG-13', 'R', 'NC-17',\n",
    "    'TV-Y', 'TV-Y7', 'TV-Y7-FV', 'TV-G', 'TV-PG', 'TV-14', 'TV-MA',\n",
    "    'NR', 'UR', 'Not Rated'\n",
    "    ]\n",
    "\n",
    "    if isinstance(rating, str) and rating in valid_ratings:\n",
    "        return rating\n",
    "    else:\n",
    "        return \"Unknown\"\n",
    "df_movies['rating'] = df_movies['rating'].apply(check_if_valid)\n",
    "df_series['rating'] = df_series['rating'].apply(check_if_valid)\n",
    "\n"
   ]
  },
  {
   "cell_type": "code",
   "execution_count": 35,
   "id": "4cde837f-f4e4-4a80-a4c3-75163e6e4e2b",
   "metadata": {},
   "outputs": [
    {
     "name": "stdout",
     "output_type": "stream",
     "text": [
      "['PG-13' 'PG' 'TV-MA' 'TV-PG' 'TV-14' 'TV-Y' 'R' 'TV-G' 'TV-Y7' 'G'\n",
      " 'NC-17' 'Unknown' 'NR' 'TV-Y7-FV' 'UR']\n"
     ]
    }
   ],
   "source": []
  },
  {
   "cell_type": "code",
   "execution_count": null,
   "id": "e7ff7549-06c4-45c0-bbae-e6dca373206a",
   "metadata": {},
   "outputs": [],
   "source": []
  }
 ],
 "metadata": {
  "kernelspec": {
   "display_name": "Python [conda env:base] *",
   "language": "python",
   "name": "conda-base-py"
  },
  "language_info": {
   "codemirror_mode": {
    "name": "ipython",
    "version": 3
   },
   "file_extension": ".py",
   "mimetype": "text/x-python",
   "name": "python",
   "nbconvert_exporter": "python",
   "pygments_lexer": "ipython3",
   "version": "3.12.7"
  }
 },
 "nbformat": 4,
 "nbformat_minor": 5
}
